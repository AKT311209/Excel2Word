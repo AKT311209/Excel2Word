{
 "cells": [
  {
   "cell_type": "code",
   "execution_count": 3,
   "metadata": {},
   "outputs": [],
   "source": [
    "import pandas as pd\n",
    "import openpyxl as excel\n",
    "import docx as docu\n"
   ]
  },
  {
   "cell_type": "code",
   "execution_count": 8,
   "metadata": {},
   "outputs": [],
   "source": [
    "def readexcel(path, sheetname, range_str):\n",
    "    \"\"\" Reads data from an Excel sheet within a specified range and calculates sums. \"\"\"\n",
    "    wb = excel.load_workbook(path)  # Load the workbook\n",
    "    sheet = wb[sheetname]  # Access the sheet by name\n",
    "\n",
    "    # Extract data from the specified range\n",
    "    data = []\n",
    "    for row in sheet.iter_rows(min_row=int(range_str.split(':')[0][1:]),\n",
    "                             max_row=int(range_str.split(':')[1][1:]),\n",
    "                             min_col=ord(range_str.split(':')[0][0]) - 64,\n",
    "                             max_col=ord(range_str.split(':')[1][0]) - 64):\n",
    "        row_data = []\n",
    "        for cell in row:\n",
    "            if cell.value is None:\n",
    "                row_data.append(None)\n",
    "            else:\n",
    "                row_data.append(cell.internal_value)\n",
    "        data.append(row_data)\n",
    "\n",
    "    df = pd.DataFrame(data)\n",
    "\n",
    "\n",
    "    return df"
   ]
  },
  {
   "cell_type": "code",
   "execution_count": 9,
   "metadata": {},
   "outputs": [
    {
     "data": {
      "text/html": [
       "<div>\n",
       "<style scoped>\n",
       "    .dataframe tbody tr th:only-of-type {\n",
       "        vertical-align: middle;\n",
       "    }\n",
       "\n",
       "    .dataframe tbody tr th {\n",
       "        vertical-align: top;\n",
       "    }\n",
       "\n",
       "    .dataframe thead th {\n",
       "        text-align: right;\n",
       "    }\n",
       "</style>\n",
       "<table border=\"1\" class=\"dataframe\">\n",
       "  <thead>\n",
       "    <tr style=\"text-align: right;\">\n",
       "      <th></th>\n",
       "      <th>0</th>\n",
       "      <th>1</th>\n",
       "      <th>2</th>\n",
       "      <th>3</th>\n",
       "      <th>4</th>\n",
       "    </tr>\n",
       "  </thead>\n",
       "  <tbody>\n",
       "    <tr>\n",
       "      <th>0</th>\n",
       "      <td>Date</td>\n",
       "      <td>Moneyin</td>\n",
       "      <td>Moneyout</td>\n",
       "      <td>Hello</td>\n",
       "      <td>Goodbye</td>\n",
       "    </tr>\n",
       "    <tr>\n",
       "      <th>1</th>\n",
       "      <td>2024-02-01 00:00:00</td>\n",
       "      <td>30</td>\n",
       "      <td>32</td>\n",
       "      <td>2</td>\n",
       "      <td>8</td>\n",
       "    </tr>\n",
       "    <tr>\n",
       "      <th>2</th>\n",
       "      <td>2023-04-03 00:00:00</td>\n",
       "      <td>80</td>\n",
       "      <td>32</td>\n",
       "      <td>3</td>\n",
       "      <td>29</td>\n",
       "    </tr>\n",
       "    <tr>\n",
       "      <th>3</th>\n",
       "      <td>2022-04-06 00:00:00</td>\n",
       "      <td>32</td>\n",
       "      <td>28</td>\n",
       "      <td>8</td>\n",
       "      <td>230</td>\n",
       "    </tr>\n",
       "    <tr>\n",
       "      <th>4</th>\n",
       "      <td>Total</td>\n",
       "      <td>=SUM(B2:B4)</td>\n",
       "      <td>=SUM(C2:C4)</td>\n",
       "      <td>=SUM(D2:D4)</td>\n",
       "      <td>883</td>\n",
       "    </tr>\n",
       "  </tbody>\n",
       "</table>\n",
       "</div>"
      ],
      "text/plain": [
       "                     0            1            2            3        4\n",
       "0                 Date      Moneyin     Moneyout        Hello  Goodbye\n",
       "1  2024-02-01 00:00:00           30           32            2        8\n",
       "2  2023-04-03 00:00:00           80           32            3       29\n",
       "3  2022-04-06 00:00:00           32           28            8      230\n",
       "4                Total  =SUM(B2:B4)  =SUM(C2:C4)  =SUM(D2:D4)      883"
      ]
     },
     "execution_count": 9,
     "metadata": {},
     "output_type": "execute_result"
    }
   ],
   "source": [
    "readexcel('Test.xlsx', 'Sheet1', 'A1:E5')"
   ]
  },
  {
   "cell_type": "code",
   "execution_count": 21,
   "metadata": {},
   "outputs": [],
   "source": [
    "wb = excel.load_workbook('Test.xlsx', data_only=True)  # Load the workbook\n",
    "sheet = wb['Sheet1'] "
   ]
  },
  {
   "cell_type": "code",
   "execution_count": 23,
   "metadata": {},
   "outputs": [
    {
     "name": "stdout",
     "output_type": "stream",
     "text": [
      "Date\n",
      "Moneyin\n",
      "Moneyout\n",
      "Hello\n",
      "Goodbye\n",
      "Kind\n",
      "2024-02-01 00:00:00\n",
      "30\n",
      "32\n",
      "2\n",
      "8\n",
      "38\n",
      "2023-04-03 00:00:00\n",
      "80\n",
      "32\n",
      "3\n",
      "29\n",
      "82\n",
      "2022-04-06 00:00:00\n",
      "32\n",
      "28\n",
      "8\n",
      "230\n",
      "32\n",
      "Total\n",
      "142\n",
      "92\n",
      "13\n",
      "883\n",
      "152\n"
     ]
    }
   ],
   "source": [
    "for row in sheet.iter_rows():\n",
    "    for cell in row:\n",
    "        print(cell.value)"
   ]
  },
  {
   "cell_type": "code",
   "execution_count": null,
   "metadata": {},
   "outputs": [],
   "source": []
  }
 ],
 "metadata": {
  "kernelspec": {
   "display_name": "Python 3",
   "language": "python",
   "name": "python3"
  },
  "language_info": {
   "codemirror_mode": {
    "name": "ipython",
    "version": 3
   },
   "file_extension": ".py",
   "mimetype": "text/x-python",
   "name": "python",
   "nbconvert_exporter": "python",
   "pygments_lexer": "ipython3",
   "version": "3.12.4"
  }
 },
 "nbformat": 4,
 "nbformat_minor": 2
}
